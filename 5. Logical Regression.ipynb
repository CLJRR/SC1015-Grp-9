{
 "cells": [
  {
   "cell_type": "markdown",
   "id": "1f018b33",
   "metadata": {},
   "source": [
    "### Logistic Regression\n",
    "\n",
    "Logistic Regression is a statistical method used in machine learning to predict the positive or negative value of a dependent variable based on one or more independent variables. In Logistic Regression, the dependent variable is modeled using the logistic function, which maps continuous inputs to a binary output.\n",
    "\n",
    "The Logistic Regression model estimates the coefficients of the independent variables that maximise the likelihood of the observed data given the model parameters. The model is trained to minimise the difference between the predicted probabilities and the actual binary outcomes of the data. A threshold can also be set on the predicted probabilities. Any probability greater than the threshold is classified as positive and any probability less than the threshold is classified as negative.\n"
   ]
  },
  {
   "cell_type": "code",
   "execution_count": 46,
   "id": "579766b9",
   "metadata": {},
   "outputs": [],
   "source": [
    "# Basic Libraries\n",
    "import numpy as np\n",
    "import pandas as pd\n",
    "import seaborn as sb\n",
    "import matplotlib.pyplot as plt # we only need pyplot\n",
    "sb.set() # set the default Seaborn style for graphics\n",
    "from sklearn.datasets import make_classification\n",
    "from sklearn.linear_model import LogisticRegression\n",
    "from sklearn.model_selection import train_test_split\n",
    "from sklearn.metrics import confusion_matrix"
   ]
  },
  {
   "cell_type": "markdown",
   "id": "6d85ff49",
   "metadata": {},
   "source": [
    "### Variables\n",
    "\n",
    "From our Exploratory Data Analysis, we identified 6 variables that are significantly correlated with hypertension. \n",
    "\n",
    "For Logistic Regression, categorical values (strings) have to be converted into numerical values to be processed."
   ]
  },
  {
   "cell_type": "code",
   "execution_count": 47,
   "id": "e0e5ecd5",
   "metadata": {},
   "outputs": [
    {
     "data": {
      "text/html": [
       "<div>\n",
       "<style scoped>\n",
       "    .dataframe tbody tr th:only-of-type {\n",
       "        vertical-align: middle;\n",
       "    }\n",
       "\n",
       "    .dataframe tbody tr th {\n",
       "        vertical-align: top;\n",
       "    }\n",
       "\n",
       "    .dataframe thead th {\n",
       "        text-align: right;\n",
       "    }\n",
       "</style>\n",
       "<table border=\"1\" class=\"dataframe\">\n",
       "  <thead>\n",
       "    <tr style=\"text-align: right;\">\n",
       "      <th></th>\n",
       "      <th>Hypertension</th>\n",
       "      <th>Diabetes</th>\n",
       "      <th>Overall Health</th>\n",
       "      <th>BMI Category</th>\n",
       "      <th>Have CHD/MI</th>\n",
       "      <th>High Cholesterol</th>\n",
       "      <th>Income</th>\n",
       "    </tr>\n",
       "  </thead>\n",
       "  <tbody>\n",
       "    <tr>\n",
       "      <th>0</th>\n",
       "      <td>No</td>\n",
       "      <td>No</td>\n",
       "      <td>Fair or poor health</td>\n",
       "      <td>Underweight</td>\n",
       "      <td>No</td>\n",
       "      <td>Yes</td>\n",
       "      <td>25000 to &lt; 35000</td>\n",
       "    </tr>\n",
       "    <tr>\n",
       "      <th>1</th>\n",
       "      <td>Yes</td>\n",
       "      <td>Yes</td>\n",
       "      <td>Good or better health</td>\n",
       "      <td>Overweight</td>\n",
       "      <td>Yes</td>\n",
       "      <td>No</td>\n",
       "      <td>15000 to &lt; 25000</td>\n",
       "    </tr>\n",
       "    <tr>\n",
       "      <th>2</th>\n",
       "      <td>Yes</td>\n",
       "      <td>Yes</td>\n",
       "      <td>Good or better health</td>\n",
       "      <td>Obese</td>\n",
       "      <td>No</td>\n",
       "      <td>Yes</td>\n",
       "      <td>50000 to &lt; 100000</td>\n",
       "    </tr>\n",
       "    <tr>\n",
       "      <th>3</th>\n",
       "      <td>No</td>\n",
       "      <td>Yes</td>\n",
       "      <td>Fair or poor health</td>\n",
       "      <td>Overweight</td>\n",
       "      <td>Yes</td>\n",
       "      <td>Yes</td>\n",
       "      <td>15000 to &lt; 25000</td>\n",
       "    </tr>\n",
       "    <tr>\n",
       "      <th>4</th>\n",
       "      <td>No</td>\n",
       "      <td>No</td>\n",
       "      <td>Good or better health</td>\n",
       "      <td>Normal</td>\n",
       "      <td>No</td>\n",
       "      <td>No</td>\n",
       "      <td>35000 to &lt; 50000</td>\n",
       "    </tr>\n",
       "  </tbody>\n",
       "</table>\n",
       "</div>"
      ],
      "text/plain": [
       "  Hypertension Diabetes         Overall Health BMI Category Have CHD/MI  \\\n",
       "0           No       No    Fair or poor health  Underweight          No   \n",
       "1          Yes      Yes  Good or better health   Overweight         Yes   \n",
       "2          Yes      Yes  Good or better health        Obese          No   \n",
       "3           No      Yes    Fair or poor health   Overweight         Yes   \n",
       "4           No       No  Good or better health       Normal          No   \n",
       "\n",
       "  High Cholesterol             Income  \n",
       "0              Yes   25000 to < 35000  \n",
       "1               No   15000 to < 25000  \n",
       "2              Yes  50000 to < 100000  \n",
       "3              Yes   15000 to < 25000  \n",
       "4               No   35000 to < 50000  "
      ]
     },
     "execution_count": 47,
     "metadata": {},
     "output_type": "execute_result"
    }
   ],
   "source": [
    "# Loading cleaned data set\n",
    "Dataset = pd.read_csv('./Data/Final_Data.csv')\n",
    "Dataset.drop(columns=Dataset.columns[0], axis=1, inplace=True)\n",
    "Dataset.head()"
   ]
  },
  {
   "cell_type": "code",
   "execution_count": 48,
   "id": "8741573d",
   "metadata": {},
   "outputs": [
    {
     "name": "stdout",
     "output_type": "stream",
     "text": [
      "<class 'pandas.core.frame.DataFrame'>\n",
      "RangeIndex: 186125 entries, 0 to 186124\n",
      "Data columns (total 6 columns):\n",
      " #   Column            Non-Null Count   Dtype \n",
      "---  ------            --------------   ----- \n",
      " 0   Hypertension      186125 non-null  object\n",
      " 1   Diabetes          186125 non-null  object\n",
      " 2   Overall Health    186125 non-null  object\n",
      " 3   BMI Category      186125 non-null  object\n",
      " 4   Have CHD/MI       186125 non-null  object\n",
      " 5   High Cholesterol  186125 non-null  object\n",
      "dtypes: object(6)\n",
      "memory usage: 8.5+ MB\n"
     ]
    }
   ],
   "source": [
    "# Creating dataframe with only significant independent variables\n",
    "hypertension_dataset = Dataset.copy()                     \n",
    "hypertension_dataset.drop(['Income'],inplace=True, axis=1)\n",
    "hypertension_dataset.info()"
   ]
  },
  {
   "cell_type": "code",
   "execution_count": 49,
   "id": "188f5080",
   "metadata": {},
   "outputs": [],
   "source": [
    "# Changing every values to numeric values for Logistic Regression\n",
    "\n",
    "for ind in hypertension_dataset.index:\n",
    "    if hypertension_dataset.loc[ind, 'Have CHD/MI'] == 1.0:\n",
    "        hypertension_dataset.loc[ind, 'Have CHD/MI'] = 1\n",
    "    elif hypertension_dataset.loc[ind, 'Have CHD/MI'] == 2.0: \n",
    "        hypertension_dataset.loc[ind, 'Have CHD/MI'] = 0\n",
    "\n",
    "# Decode BMI Category\n",
    "hypertension_dataset.replace(\"Underweight\", 1, inplace = True)\n",
    "hypertension_dataset.replace(\"Normal\", 2, inplace = True)\n",
    "hypertension_dataset.replace(\"Overweight\", 3, inplace = True)\n",
    "hypertension_dataset.replace(\"Obese\", 4, inplace = True)\n",
    "\n",
    "# Decode BMI Category\n",
    "hypertension_dataset.replace(\"Good or better health\", 1, inplace = True)\n",
    "hypertension_dataset.replace(\"Fair or poor health\", 2, inplace = True)\n",
    "\n",
    "hypertension_dataset.replace(\"Yes\", 1, inplace = True)\n",
    "hypertension_dataset.replace(\"No\", 0, inplace = True)"
   ]
  },
  {
   "cell_type": "code",
   "execution_count": 50,
   "id": "b36e8836",
   "metadata": {},
   "outputs": [
    {
     "name": "stdout",
     "output_type": "stream",
     "text": [
      "<class 'pandas.core.frame.DataFrame'>\n",
      "RangeIndex: 186125 entries, 0 to 186124\n",
      "Data columns (total 6 columns):\n",
      " #   Column            Non-Null Count   Dtype\n",
      "---  ------            --------------   -----\n",
      " 0   Hypertension      186125 non-null  int64\n",
      " 1   Diabetes          186125 non-null  int64\n",
      " 2   Overall Health    186125 non-null  int64\n",
      " 3   BMI Category      186125 non-null  int64\n",
      " 4   Have CHD/MI       186125 non-null  int64\n",
      " 5   High Cholesterol  186125 non-null  int64\n",
      "dtypes: int64(6)\n",
      "memory usage: 8.5 MB\n"
     ]
    }
   ],
   "source": [
    "# Check if variable data has been changed to type int\n",
    "hypertension_dataset.info()"
   ]
  },
  {
   "cell_type": "code",
   "execution_count": 51,
   "id": "3eeef421",
   "metadata": {},
   "outputs": [
    {
     "data": {
      "text/html": [
       "<div>\n",
       "<style scoped>\n",
       "    .dataframe tbody tr th:only-of-type {\n",
       "        vertical-align: middle;\n",
       "    }\n",
       "\n",
       "    .dataframe tbody tr th {\n",
       "        vertical-align: top;\n",
       "    }\n",
       "\n",
       "    .dataframe thead th {\n",
       "        text-align: right;\n",
       "    }\n",
       "</style>\n",
       "<table border=\"1\" class=\"dataframe\">\n",
       "  <thead>\n",
       "    <tr style=\"text-align: right;\">\n",
       "      <th></th>\n",
       "      <th>Hypertension</th>\n",
       "      <th>Diabetes</th>\n",
       "      <th>Overall Health</th>\n",
       "      <th>BMI Category</th>\n",
       "      <th>Have CHD/MI</th>\n",
       "      <th>High Cholesterol</th>\n",
       "    </tr>\n",
       "  </thead>\n",
       "  <tbody>\n",
       "    <tr>\n",
       "      <th>0</th>\n",
       "      <td>0</td>\n",
       "      <td>0</td>\n",
       "      <td>2</td>\n",
       "      <td>1</td>\n",
       "      <td>0</td>\n",
       "      <td>1</td>\n",
       "    </tr>\n",
       "    <tr>\n",
       "      <th>1</th>\n",
       "      <td>1</td>\n",
       "      <td>1</td>\n",
       "      <td>1</td>\n",
       "      <td>3</td>\n",
       "      <td>1</td>\n",
       "      <td>0</td>\n",
       "    </tr>\n",
       "    <tr>\n",
       "      <th>2</th>\n",
       "      <td>1</td>\n",
       "      <td>1</td>\n",
       "      <td>1</td>\n",
       "      <td>4</td>\n",
       "      <td>0</td>\n",
       "      <td>1</td>\n",
       "    </tr>\n",
       "    <tr>\n",
       "      <th>3</th>\n",
       "      <td>0</td>\n",
       "      <td>1</td>\n",
       "      <td>2</td>\n",
       "      <td>3</td>\n",
       "      <td>1</td>\n",
       "      <td>1</td>\n",
       "    </tr>\n",
       "    <tr>\n",
       "      <th>4</th>\n",
       "      <td>0</td>\n",
       "      <td>0</td>\n",
       "      <td>1</td>\n",
       "      <td>2</td>\n",
       "      <td>0</td>\n",
       "      <td>0</td>\n",
       "    </tr>\n",
       "  </tbody>\n",
       "</table>\n",
       "</div>"
      ],
      "text/plain": [
       "   Hypertension  Diabetes  Overall Health  BMI Category  Have CHD/MI  \\\n",
       "0             0         0               2             1            0   \n",
       "1             1         1               1             3            1   \n",
       "2             1         1               1             4            0   \n",
       "3             0         1               2             3            1   \n",
       "4             0         0               1             2            0   \n",
       "\n",
       "   High Cholesterol  \n",
       "0                 1  \n",
       "1                 0  \n",
       "2                 1  \n",
       "3                 1  \n",
       "4                 0  "
      ]
     },
     "execution_count": 51,
     "metadata": {},
     "output_type": "execute_result"
    }
   ],
   "source": [
    "# Load Dataset to confirm chabges has been made\n",
    "hypertension_dataset.head()"
   ]
  },
  {
   "cell_type": "code",
   "execution_count": 52,
   "id": "cb273537",
   "metadata": {},
   "outputs": [],
   "source": [
    "# Isolate dependent variable to fit into the model\n",
    "labels = hypertension_dataset.pop(\"Hypertension\")"
   ]
  },
  {
   "cell_type": "markdown",
   "id": "af9b09d1",
   "metadata": {},
   "source": [
    "### Train and Test Set\n",
    "\n",
    "Our data set will be randomly split into two sets with 80% of the data forming the train set and the remaining 20% forming the test set.\n",
    "\n",
    "The train set will be fitted into the parameters of Logistic Regression where the coefficients of the model are adjusted to minimise the difference between the predicted and the actual values for hypertension based on the given independent variables.\n",
    "\n",
    "The test set is then used to evaluate the performance of the trained model to simulate how well the model can make predictions for hypertension on new and unseen data.\n",
    "\n",
    "The train and test sets are kept completely separate to avoid overfitting the model to the train data. Overfitting occurs when the model makes predictions based on memory of data in the train set rather than trends, which causes it to perform poorly on new data. By evaluating the performance of the model on a separate test set, a better estimate is returned."
   ]
  },
  {
   "cell_type": "code",
   "execution_count": 53,
   "id": "c580d1b5",
   "metadata": {},
   "outputs": [],
   "source": [
    "# Split data randomly into 80% train set and 20% test set\n",
    "x_train, x_test, y_train, y_test = train_test_split(hypertension_dataset, labels, test_size = 0.20, random_state=9999)"
   ]
  },
  {
   "cell_type": "code",
   "execution_count": 54,
   "id": "bb6e0a21",
   "metadata": {},
   "outputs": [
    {
     "data": {
      "text/html": [
       "<style>#sk-container-id-5 {color: black;}#sk-container-id-5 pre{padding: 0;}#sk-container-id-5 div.sk-toggleable {background-color: white;}#sk-container-id-5 label.sk-toggleable__label {cursor: pointer;display: block;width: 100%;margin-bottom: 0;padding: 0.3em;box-sizing: border-box;text-align: center;}#sk-container-id-5 label.sk-toggleable__label-arrow:before {content: \"▸\";float: left;margin-right: 0.25em;color: #696969;}#sk-container-id-5 label.sk-toggleable__label-arrow:hover:before {color: black;}#sk-container-id-5 div.sk-estimator:hover label.sk-toggleable__label-arrow:before {color: black;}#sk-container-id-5 div.sk-toggleable__content {max-height: 0;max-width: 0;overflow: hidden;text-align: left;background-color: #f0f8ff;}#sk-container-id-5 div.sk-toggleable__content pre {margin: 0.2em;color: black;border-radius: 0.25em;background-color: #f0f8ff;}#sk-container-id-5 input.sk-toggleable__control:checked~div.sk-toggleable__content {max-height: 200px;max-width: 100%;overflow: auto;}#sk-container-id-5 input.sk-toggleable__control:checked~label.sk-toggleable__label-arrow:before {content: \"▾\";}#sk-container-id-5 div.sk-estimator input.sk-toggleable__control:checked~label.sk-toggleable__label {background-color: #d4ebff;}#sk-container-id-5 div.sk-label input.sk-toggleable__control:checked~label.sk-toggleable__label {background-color: #d4ebff;}#sk-container-id-5 input.sk-hidden--visually {border: 0;clip: rect(1px 1px 1px 1px);clip: rect(1px, 1px, 1px, 1px);height: 1px;margin: -1px;overflow: hidden;padding: 0;position: absolute;width: 1px;}#sk-container-id-5 div.sk-estimator {font-family: monospace;background-color: #f0f8ff;border: 1px dotted black;border-radius: 0.25em;box-sizing: border-box;margin-bottom: 0.5em;}#sk-container-id-5 div.sk-estimator:hover {background-color: #d4ebff;}#sk-container-id-5 div.sk-parallel-item::after {content: \"\";width: 100%;border-bottom: 1px solid gray;flex-grow: 1;}#sk-container-id-5 div.sk-label:hover label.sk-toggleable__label {background-color: #d4ebff;}#sk-container-id-5 div.sk-serial::before {content: \"\";position: absolute;border-left: 1px solid gray;box-sizing: border-box;top: 0;bottom: 0;left: 50%;z-index: 0;}#sk-container-id-5 div.sk-serial {display: flex;flex-direction: column;align-items: center;background-color: white;padding-right: 0.2em;padding-left: 0.2em;position: relative;}#sk-container-id-5 div.sk-item {position: relative;z-index: 1;}#sk-container-id-5 div.sk-parallel {display: flex;align-items: stretch;justify-content: center;background-color: white;position: relative;}#sk-container-id-5 div.sk-item::before, #sk-container-id-5 div.sk-parallel-item::before {content: \"\";position: absolute;border-left: 1px solid gray;box-sizing: border-box;top: 0;bottom: 0;left: 50%;z-index: -1;}#sk-container-id-5 div.sk-parallel-item {display: flex;flex-direction: column;z-index: 1;position: relative;background-color: white;}#sk-container-id-5 div.sk-parallel-item:first-child::after {align-self: flex-end;width: 50%;}#sk-container-id-5 div.sk-parallel-item:last-child::after {align-self: flex-start;width: 50%;}#sk-container-id-5 div.sk-parallel-item:only-child::after {width: 0;}#sk-container-id-5 div.sk-dashed-wrapped {border: 1px dashed gray;margin: 0 0.4em 0.5em 0.4em;box-sizing: border-box;padding-bottom: 0.4em;background-color: white;}#sk-container-id-5 div.sk-label label {font-family: monospace;font-weight: bold;display: inline-block;line-height: 1.2em;}#sk-container-id-5 div.sk-label-container {text-align: center;}#sk-container-id-5 div.sk-container {/* jupyter's `normalize.less` sets `[hidden] { display: none; }` but bootstrap.min.css set `[hidden] { display: none !important; }` so we also need the `!important` here to be able to override the default hidden behavior on the sphinx rendered scikit-learn.org. See: https://github.com/scikit-learn/scikit-learn/issues/21755 */display: inline-block !important;position: relative;}#sk-container-id-5 div.sk-text-repr-fallback {display: none;}</style><div id=\"sk-container-id-5\" class=\"sk-top-container\"><div class=\"sk-text-repr-fallback\"><pre>LogisticRegression(max_iter=200000)</pre><b>In a Jupyter environment, please rerun this cell to show the HTML representation or trust the notebook. <br />On GitHub, the HTML representation is unable to render, please try loading this page with nbviewer.org.</b></div><div class=\"sk-container\" hidden><div class=\"sk-item\"><div class=\"sk-estimator sk-toggleable\"><input class=\"sk-toggleable__control sk-hidden--visually\" id=\"sk-estimator-id-5\" type=\"checkbox\" checked><label for=\"sk-estimator-id-5\" class=\"sk-toggleable__label sk-toggleable__label-arrow\">LogisticRegression</label><div class=\"sk-toggleable__content\"><pre>LogisticRegression(max_iter=200000)</pre></div></div></div></div></div>"
      ],
      "text/plain": [
       "LogisticRegression(max_iter=200000)"
      ]
     },
     "execution_count": 54,
     "metadata": {},
     "output_type": "execute_result"
    }
   ],
   "source": [
    "# Create a Logistic Regression Object, perform Logistic Regression\n",
    "log_reg = LogisticRegression(max_iter=200000)\n",
    "log_reg.fit(x_train, y_train)"
   ]
  },
  {
   "cell_type": "code",
   "execution_count": 55,
   "id": "d0676bba",
   "metadata": {},
   "outputs": [
    {
     "name": "stdout",
     "output_type": "stream",
     "text": [
      "[[1.05648817 0.56828262 0.4359949  1.02127167 0.94150834]]\n",
      "[-2.99043816]\n"
     ]
    }
   ],
   "source": [
    "# Show to Coeficient and Intercept\n",
    "print(log_reg.coef_)\n",
    "print(log_reg.intercept_)"
   ]
  },
  {
   "cell_type": "code",
   "execution_count": 56,
   "id": "69bbb0fa",
   "metadata": {},
   "outputs": [],
   "source": [
    "# Perform prediction using the train dataset\n",
    "y_train_pred = log_reg.predict(x_train)"
   ]
  },
  {
   "cell_type": "code",
   "execution_count": 57,
   "id": "7af5af2f",
   "metadata": {},
   "outputs": [],
   "source": [
    "# Perform prediction using the test dataset\n",
    "y_test_pred = log_reg.predict(x_test)"
   ]
  },
  {
   "cell_type": "markdown",
   "id": "187b65c4",
   "metadata": {},
   "source": [
    "<h1>Confusion Matrix</h1>\n",
    "\n",
    "The confusion matrix allows us to evaluate the performance of a classification model by summarising the predicted and actual values of the test data to determine the accuracy of its predictions.\n",
    "\n",
    "The TPR can be found by dividing the true positives identified by the total actual positives. The FPR can be found by divding the false positives identified by the total actual negatives. Comparing the TPR and FPR gives us an indication of how well the model can correctly identify whether an individual has hypertension based on the individual's factors.\n",
    "\n",
    "For Logistic Regression, the accuracy of the model can be determined by how well the model is able to correctly identify its predictions. This can be found by dividing the sum of true positives and true negatives by the total number of predictions, which gives us the rate of correct predictions on the test set."
   ]
  },
  {
   "cell_type": "code",
   "execution_count": 58,
   "id": "f0425bd1",
   "metadata": {},
   "outputs": [
    {
     "data": {
      "text/plain": [
       "<Axes: >"
      ]
     },
     "execution_count": 58,
     "metadata": {},
     "output_type": "execute_result"
    },
    {
     "data": {
      "image/png": "[encoded data removed]",
      "text/plain": [
       "<Figure size 640x480 with 2 Axes>"
      ]
     },
     "metadata": {},
     "output_type": "display_data"
    }
   ],
   "source": [
    "# Show the Confusion Matrix\n",
    "sb.heatmap(confusion_matrix(y_test, y_test_pred), \n",
    "           annot = True, fmt=\".0f\", annot_kws={\"size\": 18})"
   ]
  },
  {
   "cell_type": "code",
   "execution_count": 59,
   "id": "c623714b",
   "metadata": {},
   "outputs": [
    {
     "name": "stdout",
     "output_type": "stream",
     "text": [
      "Goodness of Fit of Model \t:Train Dataset\n",
      "True positive rate \t= 0.4684678801730471\n",
      "False positive rate \t= 0.1503907809914998\n",
      "Accuracy of train \t= 0.6928139691067831\n",
      "\n",
      "Goodness of Fit of Model \t:Test Dataset\n",
      "True positive rate \t= 0.4792155329684649\n",
      "False positive rate \t= 0.1534031174292636\n",
      "Accuracy of test \t= 0.6951242444593687\n"
     ]
    }
   ],
   "source": [
    "# Check the Goodness of Fit (on Train Data)\n",
    "tn_train, fp_train, fn_train, tp_train = confusion_matrix(y_train, y_train_pred).ravel()\n",
    "\n",
    "tpr_train = tp_train / (fn_train + tp_train)\n",
    "fpr_train = fp_train / (fp_train + tn_train)\n",
    "accuracy_train = (tp_train + tn_train)/(tp_train + tn_train + fp_train + fn_train)\n",
    "print(\"Goodness of Fit of Model \\t:Train Dataset\")\n",
    "print(\"True positive rate \\t=\", tpr_train)\n",
    "print(\"False positive rate \\t=\", fpr_train)\n",
    "print(\"Accuracy of train \\t=\", accuracy_train)\n",
    "\n",
    "print()\n",
    "# Check the Goodness of Fit (on Test Data)\n",
    "tn_test, fp_test, fn_test, tp_test = confusion_matrix(y_test, y_test_pred).ravel()\n",
    "\n",
    "tpr_test = tp_test / (fn_test + tp_test)\n",
    "fpr_test = fp_test / (fp_test + tn_test)\n",
    "accuracy_test = (tp_test + tn_test)/(tp_test + tn_test + fp_test + fn_test)\n",
    "print(\"Goodness of Fit of Model \\t:Test Dataset\")\n",
    "print(\"True positive rate \\t=\", tpr_test)\n",
    "print(\"False positive rate \\t=\", fpr_test)\n",
    "print(\"Accuracy of test \\t=\", accuracy_test)"
   ]
  },
  {
   "cell_type": "markdown",
   "id": "a58b587f",
   "metadata": {},
   "source": [
    "<h1>Hyperparameter Optimisation</h1>\n",
    "\n",
    "The Logistic Regression model can be further optimised by setting certain parameters that are not learned from the data. These parameters are known as hyperparameters. The most suitable hyperparameters for the model are chosen by trial and error to find the best values.\n",
    "\n",
    "The hyperparameters we considered are:\n",
    "\n",
    "1. <b>C</b>: The strength of the regularisation applied to the model. Regularisation helps to prevent overfitting by penalising large coefficients in the model. A high value of C reduces the amount of regularisation and may lead to overfitting, while a low value of C increases the regularisation and may lead to underfitting. A range of C values from 0.1 to 1 will be tested to ensure sufficient breadth and low C value.\n",
    "\n",
    "\n",
    "2. <b>penalty</b>: There are two penalty hyperparameters L1 (Lasso) and L2 (Ridge). L1 is used to reduce the number of input variables, while L2 is used when all the variables are important and we want to avoid overfitting. Since we have identified only the variables with significant correlation to hypertension, only L2 penalty will be used.\n",
    "\n",
    "\n",
    "3. <b>solver</b>: There are different solvers that can be used to optimise the Logistic Regression model. The choice of solver can affect the convergence speed and accuracy of the model. \"lbfgs\" is used for its good convergence properties, efficient use of memory, and ability to handle large datasets. \"sag\" optimises the loss function by updating the coefficients based on a randomly selected subset of the training datawill be tested, and is efficient for large datasets. These two solvers are suitable as our dataset with over 70,000 data points is considered large.\n",
    "\n",
    "\n",
    "4. <b>max_iter</b>: The max number of iterations needed for the Logistic Regression to converge and produce an accurate solution. A sufficiently large value for the max iteration hyperparameter is needed to ensure that the algorithm has enough time to converge. However, a value too large can cause performance or computational issues, and hence an optimal number of iterations is needed."
   ]
  },
  {
   "cell_type": "code",
   "execution_count": 60,
   "id": "064f6952",
   "metadata": {},
   "outputs": [],
   "source": [
    "# Specify the chosen hyperparameters for the Logistic Regression\n",
    "param_grid = [    \n",
    "    {'penalty' : ['l2'],\n",
    "    'C' : np.arange(0.1, 1.0, 0.1),\n",
    "    'solver' : ['lbfgs','sag'],\n",
    "    # 'max_iter' : [list(range(1,10001))]\n",
    "    'max_iter' : [500, 1000, 5000, 10000]\n",
    "\n",
    "    }\n",
    "]"
   ]
  },
  {
   "cell_type": "code",
   "execution_count": 61,
   "id": "3899ce6c",
   "metadata": {},
   "outputs": [],
   "source": [
    "# Grid search builds a model for every combination of the hyperparameters specified and evaluates each model\n",
    "# This gives us a comprehensive evaluation of the best hyperparameters to optimise prediction accuracy\n",
    "from sklearn.model_selection import GridSearchCV\n",
    "clf = GridSearchCV(log_reg, param_grid = param_grid, cv = 3, verbose=True, n_jobs=-1)"
   ]
  },
  {
   "cell_type": "code",
   "execution_count": 62,
   "id": "3352560c",
   "metadata": {},
   "outputs": [
    {
     "name": "stdout",
     "output_type": "stream",
     "text": [
      "Fitting 3 folds for each of 72 candidates, totalling 216 fits\n"
     ]
    }
   ],
   "source": [
    "# clf is used to store trained model values and find the best hyperparameter fit\n",
    "best_clf = clf.fit(x_train,y_train)"
   ]
  },
  {
   "cell_type": "code",
   "execution_count": 63,
   "id": "b95dc919",
   "metadata": {},
   "outputs": [
    {
     "data": {
      "text/html": [
       "<style>#sk-container-id-6 {color: black;}#sk-container-id-6 pre{padding: 0;}#sk-container-id-6 div.sk-toggleable {background-color: white;}#sk-container-id-6 label.sk-toggleable__label {cursor: pointer;display: block;width: 100%;margin-bottom: 0;padding: 0.3em;box-sizing: border-box;text-align: center;}#sk-container-id-6 label.sk-toggleable__label-arrow:before {content: \"▸\";float: left;margin-right: 0.25em;color: #696969;}#sk-container-id-6 label.sk-toggleable__label-arrow:hover:before {color: black;}#sk-container-id-6 div.sk-estimator:hover label.sk-toggleable__label-arrow:before {color: black;}#sk-container-id-6 div.sk-toggleable__content {max-height: 0;max-width: 0;overflow: hidden;text-align: left;background-color: #f0f8ff;}#sk-container-id-6 div.sk-toggleable__content pre {margin: 0.2em;color: black;border-radius: 0.25em;background-color: #f0f8ff;}#sk-container-id-6 input.sk-toggleable__control:checked~div.sk-toggleable__content {max-height: 200px;max-width: 100%;overflow: auto;}#sk-container-id-6 input.sk-toggleable__control:checked~label.sk-toggleable__label-arrow:before {content: \"▾\";}#sk-container-id-6 div.sk-estimator input.sk-toggleable__control:checked~label.sk-toggleable__label {background-color: #d4ebff;}#sk-container-id-6 div.sk-label input.sk-toggleable__control:checked~label.sk-toggleable__label {background-color: #d4ebff;}#sk-container-id-6 input.sk-hidden--visually {border: 0;clip: rect(1px 1px 1px 1px);clip: rect(1px, 1px, 1px, 1px);height: 1px;margin: -1px;overflow: hidden;padding: 0;position: absolute;width: 1px;}#sk-container-id-6 div.sk-estimator {font-family: monospace;background-color: #f0f8ff;border: 1px dotted black;border-radius: 0.25em;box-sizing: border-box;margin-bottom: 0.5em;}#sk-container-id-6 div.sk-estimator:hover {background-color: #d4ebff;}#sk-container-id-6 div.sk-parallel-item::after {content: \"\";width: 100%;border-bottom: 1px solid gray;flex-grow: 1;}#sk-container-id-6 div.sk-label:hover label.sk-toggleable__label {background-color: #d4ebff;}#sk-container-id-6 div.sk-serial::before {content: \"\";position: absolute;border-left: 1px solid gray;box-sizing: border-box;top: 0;bottom: 0;left: 50%;z-index: 0;}#sk-container-id-6 div.sk-serial {display: flex;flex-direction: column;align-items: center;background-color: white;padding-right: 0.2em;padding-left: 0.2em;position: relative;}#sk-container-id-6 div.sk-item {position: relative;z-index: 1;}#sk-container-id-6 div.sk-parallel {display: flex;align-items: stretch;justify-content: center;background-color: white;position: relative;}#sk-container-id-6 div.sk-item::before, #sk-container-id-6 div.sk-parallel-item::before {content: \"\";position: absolute;border-left: 1px solid gray;box-sizing: border-box;top: 0;bottom: 0;left: 50%;z-index: -1;}#sk-container-id-6 div.sk-parallel-item {display: flex;flex-direction: column;z-index: 1;position: relative;background-color: white;}#sk-container-id-6 div.sk-parallel-item:first-child::after {align-self: flex-end;width: 50%;}#sk-container-id-6 div.sk-parallel-item:last-child::after {align-self: flex-start;width: 50%;}#sk-container-id-6 div.sk-parallel-item:only-child::after {width: 0;}#sk-container-id-6 div.sk-dashed-wrapped {border: 1px dashed gray;margin: 0 0.4em 0.5em 0.4em;box-sizing: border-box;padding-bottom: 0.4em;background-color: white;}#sk-container-id-6 div.sk-label label {font-family: monospace;font-weight: bold;display: inline-block;line-height: 1.2em;}#sk-container-id-6 div.sk-label-container {text-align: center;}#sk-container-id-6 div.sk-container {/* jupyter's `normalize.less` sets `[hidden] { display: none; }` but bootstrap.min.css set `[hidden] { display: none !important; }` so we also need the `!important` here to be able to override the default hidden behavior on the sphinx rendered scikit-learn.org. See: https://github.com/scikit-learn/scikit-learn/issues/21755 */display: inline-block !important;position: relative;}#sk-container-id-6 div.sk-text-repr-fallback {display: none;}</style><div id=\"sk-container-id-6\" class=\"sk-top-container\"><div class=\"sk-text-repr-fallback\"><pre>LogisticRegression(C=0.1, max_iter=500)</pre><b>In a Jupyter environment, please rerun this cell to show the HTML representation or trust the notebook. <br />On GitHub, the HTML representation is unable to render, please try loading this page with nbviewer.org.</b></div><div class=\"sk-container\" hidden><div class=\"sk-item\"><div class=\"sk-estimator sk-toggleable\"><input class=\"sk-toggleable__control sk-hidden--visually\" id=\"sk-estimator-id-6\" type=\"checkbox\" checked><label for=\"sk-estimator-id-6\" class=\"sk-toggleable__label sk-toggleable__label-arrow\">LogisticRegression</label><div class=\"sk-toggleable__content\"><pre>LogisticRegression(C=0.1, max_iter=500)</pre></div></div></div></div></div>"
      ],
      "text/plain": [
       "LogisticRegression(C=0.1, max_iter=500)"
      ]
     },
     "execution_count": 63,
     "metadata": {},
     "output_type": "execute_result"
    }
   ],
   "source": [
    "# Find the best hyperparameters\n",
    "best_clf.best_estimator_"
   ]
  },
  {
   "cell_type": "markdown",
   "id": "c77691fc",
   "metadata": {},
   "source": [
    "<h1>Final Logistic Regression Model</h1>\n",
    "\n",
    "We will fit the Logistic Regression model using the best hyperparameters (C=0.9, max_iter=500) to create our final model. The confusion matrix will be generated again and compared with the previous confusion matrix to identify if the new model is able to identify the test data more accurately. Finally, the accuracy of the old and new model will be compared to see if there is any significant improvement to the prediction accuracy after optimisation."
   ]
  },
  {
   "cell_type": "code",
   "execution_count": 64,
   "id": "abe77a8a",
   "metadata": {},
   "outputs": [
    {
     "data": {
      "text/html": [
       "<style>#sk-container-id-7 {color: black;}#sk-container-id-7 pre{padding: 0;}#sk-container-id-7 div.sk-toggleable {background-color: white;}#sk-container-id-7 label.sk-toggleable__label {cursor: pointer;display: block;width: 100%;margin-bottom: 0;padding: 0.3em;box-sizing: border-box;text-align: center;}#sk-container-id-7 label.sk-toggleable__label-arrow:before {content: \"▸\";float: left;margin-right: 0.25em;color: #696969;}#sk-container-id-7 label.sk-toggleable__label-arrow:hover:before {color: black;}#sk-container-id-7 div.sk-estimator:hover label.sk-toggleable__label-arrow:before {color: black;}#sk-container-id-7 div.sk-toggleable__content {max-height: 0;max-width: 0;overflow: hidden;text-align: left;background-color: #f0f8ff;}#sk-container-id-7 div.sk-toggleable__content pre {margin: 0.2em;color: black;border-radius: 0.25em;background-color: #f0f8ff;}#sk-container-id-7 input.sk-toggleable__control:checked~div.sk-toggleable__content {max-height: 200px;max-width: 100%;overflow: auto;}#sk-container-id-7 input.sk-toggleable__control:checked~label.sk-toggleable__label-arrow:before {content: \"▾\";}#sk-container-id-7 div.sk-estimator input.sk-toggleable__control:checked~label.sk-toggleable__label {background-color: #d4ebff;}#sk-container-id-7 div.sk-label input.sk-toggleable__control:checked~label.sk-toggleable__label {background-color: #d4ebff;}#sk-container-id-7 input.sk-hidden--visually {border: 0;clip: rect(1px 1px 1px 1px);clip: rect(1px, 1px, 1px, 1px);height: 1px;margin: -1px;overflow: hidden;padding: 0;position: absolute;width: 1px;}#sk-container-id-7 div.sk-estimator {font-family: monospace;background-color: #f0f8ff;border: 1px dotted black;border-radius: 0.25em;box-sizing: border-box;margin-bottom: 0.5em;}#sk-container-id-7 div.sk-estimator:hover {background-color: #d4ebff;}#sk-container-id-7 div.sk-parallel-item::after {content: \"\";width: 100%;border-bottom: 1px solid gray;flex-grow: 1;}#sk-container-id-7 div.sk-label:hover label.sk-toggleable__label {background-color: #d4ebff;}#sk-container-id-7 div.sk-serial::before {content: \"\";position: absolute;border-left: 1px solid gray;box-sizing: border-box;top: 0;bottom: 0;left: 50%;z-index: 0;}#sk-container-id-7 div.sk-serial {display: flex;flex-direction: column;align-items: center;background-color: white;padding-right: 0.2em;padding-left: 0.2em;position: relative;}#sk-container-id-7 div.sk-item {position: relative;z-index: 1;}#sk-container-id-7 div.sk-parallel {display: flex;align-items: stretch;justify-content: center;background-color: white;position: relative;}#sk-container-id-7 div.sk-item::before, #sk-container-id-7 div.sk-parallel-item::before {content: \"\";position: absolute;border-left: 1px solid gray;box-sizing: border-box;top: 0;bottom: 0;left: 50%;z-index: -1;}#sk-container-id-7 div.sk-parallel-item {display: flex;flex-direction: column;z-index: 1;position: relative;background-color: white;}#sk-container-id-7 div.sk-parallel-item:first-child::after {align-self: flex-end;width: 50%;}#sk-container-id-7 div.sk-parallel-item:last-child::after {align-self: flex-start;width: 50%;}#sk-container-id-7 div.sk-parallel-item:only-child::after {width: 0;}#sk-container-id-7 div.sk-dashed-wrapped {border: 1px dashed gray;margin: 0 0.4em 0.5em 0.4em;box-sizing: border-box;padding-bottom: 0.4em;background-color: white;}#sk-container-id-7 div.sk-label label {font-family: monospace;font-weight: bold;display: inline-block;line-height: 1.2em;}#sk-container-id-7 div.sk-label-container {text-align: center;}#sk-container-id-7 div.sk-container {/* jupyter's `normalize.less` sets `[hidden] { display: none; }` but bootstrap.min.css set `[hidden] { display: none !important; }` so we also need the `!important` here to be able to override the default hidden behavior on the sphinx rendered scikit-learn.org. See: https://github.com/scikit-learn/scikit-learn/issues/21755 */display: inline-block !important;position: relative;}#sk-container-id-7 div.sk-text-repr-fallback {display: none;}</style><div id=\"sk-container-id-7\" class=\"sk-top-container\"><div class=\"sk-text-repr-fallback\"><pre>LogisticRegression(C=0.9, max_iter=500)</pre><b>In a Jupyter environment, please rerun this cell to show the HTML representation or trust the notebook. <br />On GitHub, the HTML representation is unable to render, please try loading this page with nbviewer.org.</b></div><div class=\"sk-container\" hidden><div class=\"sk-item\"><div class=\"sk-estimator sk-toggleable\"><input class=\"sk-toggleable__control sk-hidden--visually\" id=\"sk-estimator-id-7\" type=\"checkbox\" checked><label for=\"sk-estimator-id-7\" class=\"sk-toggleable__label sk-toggleable__label-arrow\">LogisticRegression</label><div class=\"sk-toggleable__content\"><pre>LogisticRegression(C=0.9, max_iter=500)</pre></div></div></div></div></div>"
      ],
      "text/plain": [
       "LogisticRegression(C=0.9, max_iter=500)"
      ]
     },
     "execution_count": 64,
     "metadata": {},
     "output_type": "execute_result"
    }
   ],
   "source": [
    "# Fit logistic regression model with best hyperparameters\n",
    "log_reg = LogisticRegression(C=0.9, max_iter=500)\n",
    "log_reg.fit(x_train, y_train)"
   ]
  },
  {
   "cell_type": "code",
   "execution_count": 65,
   "id": "f0bdc993",
   "metadata": {},
   "outputs": [
    {
     "data": {
      "text/plain": [
       "<Axes: >"
      ]
     },
     "execution_count": 65,
     "metadata": {},
     "output_type": "execute_result"
    },
    {
     "data": {
      "image/png": "[encoded data removed]",
      "text/plain": [
       "<Figure size 640x480 with 2 Axes>"
      ]
     },
     "metadata": {},
     "output_type": "display_data"
    }
   ],
   "source": [
    "# Perform prediction using the train dataset\n",
    "y_train_pred = log_reg.predict(x_train)\n",
    "\n",
    "# Perform prediction using the test dataset\n",
    "y_test_pred = log_reg.predict(x_test)\n",
    "\n",
    "# Show the Confusion Matrix\n",
    "sb.heatmap(confusion_matrix(y_test, y_test_pred), \n",
    "           annot = True, fmt=\".0f\", annot_kws={\"size\": 18})"
   ]
  },
  {
   "cell_type": "code",
   "execution_count": 66,
   "id": "ee866922",
   "metadata": {},
   "outputs": [
    {
     "name": "stdout",
     "output_type": "stream",
     "text": [
      "Goodness of Fit of Model \t:Train Dataset\n",
      "True positive rate \t= 0.4684678801730471\n",
      "False positive rate \t= 0.1503907809914998\n",
      "Accuracy of train \t= 0.6928139691067831\n",
      "\n",
      "Goodness of Fit of Model \t:Test Dataset\n",
      "True positive rate \t= 0.4792155329684649\n",
      "False positive rate \t= 0.1534031174292636\n",
      "Accuracy of test \t= 0.6951242444593687\n"
     ]
    }
   ],
   "source": [
    "# Check the Goodness of Fit (on Train Data)\n",
    "tn_train, fp_train, fn_train, tp_train = confusion_matrix(y_train, y_train_pred).ravel()\n",
    "\n",
    "tpr_train = tp_train / (fn_train + tp_train)\n",
    "fpr_train = fp_train / (fp_train + tn_train)\n",
    "accuracy_train = (tp_train + tn_train)/(tp_train + tn_train + fp_train + fn_train)\n",
    "print(\"Goodness of Fit of Model \\t:Train Dataset\")\n",
    "print(\"True positive rate \\t=\", tpr_train)\n",
    "print(\"False positive rate \\t=\", fpr_train)\n",
    "print(\"Accuracy of train \\t=\", accuracy_train)\n",
    "\n",
    "print()\n",
    "# Check the Goodness of Fit (on Test Data)\n",
    "tn_test, fp_test, fn_test, tp_test = confusion_matrix(y_test, y_test_pred).ravel()\n",
    "\n",
    "tpr_test = tp_test / (fn_test + tp_test)\n",
    "fpr_test = fp_test / (fp_test + tn_test)\n",
    "accuracy_test = (tp_test + tn_test)/(tp_test + tn_test + fp_test + fn_test)\n",
    "print(\"Goodness of Fit of Model \\t:Test Dataset\")\n",
    "print(\"True positive rate \\t=\", tpr_test)\n",
    "print(\"False positive rate \\t=\", fpr_test)\n",
    "print(\"Accuracy of test \\t=\", accuracy_test)"
   ]
  },
  {
   "cell_type": "markdown",
   "id": "1023b8dc",
   "metadata": {},
   "source": [
    "### Prediction Accuracy Findings\n",
    "\n",
    "From the provided information about the test dataset, the following observations can be made:\n",
    "\n",
    "True Positive Rate: The true positive rate is approximately 0.4792. This means that the model correctly identified around 47.92% of the positive cases.\n",
    "\n",
    "False Positive Rate: The false positive rate is approximately 0.1534. This indicates that the model incorrectly classified around 15.34% of the negative cases in the test dataset as positive.\n",
    "\n",
    "Accuracy: The accuracy of the model on the test dataset is approximately 0.6951 or 69.51%. This means that the model correctly predicted the outcome 69.51% of the cases in the test dataset.\n",
    "\n",
    "Based on these results, it can be concluded that the overall accuracy of the model is moderate, indicating that it is able to predict the outcome correctly for a significant portion of the test dataset."
   ]
  }
 ],
 "metadata": {
  "kernelspec": {
   "display_name": "Python 3 (ipykernel)",
   "language": "python",
   "name": "python3"
  },
  "language_info": {
   "codemirror_mode": {
    "name": "ipython",
    "version": 3
   },
   "file_extension": ".py",
   "mimetype": "text/x-python",
   "name": "python",
   "nbconvert_exporter": "python",
   "pygments_lexer": "ipython3",
   "version": "3.11.5"
  }
 },
 "nbformat": 4,
 "nbformat_minor": 5
}
