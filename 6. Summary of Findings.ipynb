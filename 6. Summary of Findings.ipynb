{
 "cells": [
  {
   "cell_type": "markdown",
   "metadata": {},
   "source": [
    "### Summary of Findings:\n",
    "- #### Decision Tree Model:\n",
    "    - Accuracy: `70.04%`<br>\n",
    "    - TPR: `55.20%`<br>\n",
    "    - FPR: `19.54%` <br>\n",
    "- #### Random Forest Model:\n",
    "    - Accuracy: `70.04%`<br>\n",
    "    - TPR: `55.57%`<br>\n",
    "    - FPR: `19.81%`<br>\n",
    "- #### Logical Regression Model:\n",
    "    - Accuracy: `69.51%`<br>\n",
    "    - TPR: `47.92%`<br>\n",
    "    - FPR: `15.34%`<br>"
   ]
  },
  {
   "cell_type": "markdown",
   "metadata": {},
   "source": [
    "From above, we can see that even though the `Decision Tree Model` and `Random Forest Model` have the same `Accuracy`<br>\n",
    "The `Random Forest Model` is `superior` as it has a `higher TPR`, albeit having a `higher FPR`.<br>\n",
    "\n",
    "This is what we want, where we would rather tolerate a slightly higher FPR to detect more cases of `Hypertension` for dignosis"
   ]
  },
  {
   "cell_type": "markdown",
   "metadata": {},
   "source": []
  }
 ],
 "metadata": {
  "language_info": {
   "name": "python"
  }
 },
 "nbformat": 4,
 "nbformat_minor": 2
}
